{
  "nbformat": 4,
  "nbformat_minor": 0,
  "metadata": {
    "colab": {
      "name": "UntitledCNNStatis.ipynb",
      "provenance": [],
      "collapsed_sections": []
    },
    "kernelspec": {
      "display_name": "Python 3",
      "name": "python3"
    },
    "language_info": {
      "name": "python"
    },
    "accelerator": "GPU"
  },
  "cells": [
    {
      "cell_type": "code",
      "metadata": {
        "id": "XciHCsmTpb6i",
        "colab": {
          "base_uri": "https://localhost:8080/"
        },
        "outputId": "ed333100-6173-4c9c-b9c5-f2e342894a83"
      },
      "source": [
        "from google.colab import drive\n",
        "drive.mount('/content/drive')"
      ],
      "execution_count": null,
      "outputs": [
        {
          "output_type": "stream",
          "name": "stdout",
          "text": [
            "Drive already mounted at /content/drive; to attempt to forcibly remount, call drive.mount(\"/content/drive\", force_remount=True).\n"
          ]
        }
      ]
    },
    {
      "cell_type": "code",
      "metadata": {
        "id": "B8bFJ2gINOnl"
      },
      "source": [
        "import pandas as pd\n",
        "import numpy as np"
      ],
      "execution_count": null,
      "outputs": []
    },
    {
      "cell_type": "code",
      "metadata": {
        "id": "uKmsKkjtOHRB"
      },
      "source": [
        "#Pelabelan\n",
        "ACTIVITIES = {\n",
        "    3: 'sitting',\n",
        "    4: 'standing',\n",
        "    5: 'laying',\n",
        "}"
      ],
      "execution_count": null,
      "outputs": []
    },
    {
      "cell_type": "code",
      "metadata": {
        "colab": {
          "base_uri": "https://localhost:8080/"
        },
        "id": "eUfFx6WuOHZe",
        "outputId": "1704bb55-1d61-49db-ebcb-52b34e50f567"
      },
      "source": [
        " !pip install hyperas\n",
        "!pip install hyperopt"
      ],
      "execution_count": null,
      "outputs": [
        {
          "output_type": "stream",
          "name": "stdout",
          "text": [
            "Collecting hyperas\n",
            "  Downloading hyperas-0.4.1-py3-none-any.whl (9.1 kB)\n",
            "Requirement already satisfied: entrypoints in /usr/local/lib/python3.7/dist-packages (from hyperas) (0.3)\n",
            "Requirement already satisfied: keras in /usr/local/lib/python3.7/dist-packages (from hyperas) (2.7.0)\n",
            "Requirement already satisfied: hyperopt in /usr/local/lib/python3.7/dist-packages (from hyperas) (0.1.2)\n",
            "Requirement already satisfied: jupyter in /usr/local/lib/python3.7/dist-packages (from hyperas) (1.0.0)\n",
            "Requirement already satisfied: nbformat in /usr/local/lib/python3.7/dist-packages (from hyperas) (5.1.3)\n",
            "Requirement already satisfied: nbconvert in /usr/local/lib/python3.7/dist-packages (from hyperas) (5.6.1)\n",
            "Requirement already satisfied: future in /usr/local/lib/python3.7/dist-packages (from hyperopt->hyperas) (0.16.0)\n",
            "Requirement already satisfied: six in /usr/local/lib/python3.7/dist-packages (from hyperopt->hyperas) (1.15.0)\n",
            "Requirement already satisfied: numpy in /usr/local/lib/python3.7/dist-packages (from hyperopt->hyperas) (1.19.5)\n",
            "Requirement already satisfied: networkx in /usr/local/lib/python3.7/dist-packages (from hyperopt->hyperas) (2.6.3)\n",
            "Requirement already satisfied: tqdm in /usr/local/lib/python3.7/dist-packages (from hyperopt->hyperas) (4.62.3)\n",
            "Requirement already satisfied: scipy in /usr/local/lib/python3.7/dist-packages (from hyperopt->hyperas) (1.4.1)\n",
            "Requirement already satisfied: pymongo in /usr/local/lib/python3.7/dist-packages (from hyperopt->hyperas) (4.0.1)\n",
            "Requirement already satisfied: jupyter-console in /usr/local/lib/python3.7/dist-packages (from jupyter->hyperas) (5.2.0)\n",
            "Requirement already satisfied: notebook in /usr/local/lib/python3.7/dist-packages (from jupyter->hyperas) (5.3.1)\n",
            "Requirement already satisfied: qtconsole in /usr/local/lib/python3.7/dist-packages (from jupyter->hyperas) (5.2.2)\n",
            "Requirement already satisfied: ipykernel in /usr/local/lib/python3.7/dist-packages (from jupyter->hyperas) (4.10.1)\n",
            "Requirement already satisfied: ipywidgets in /usr/local/lib/python3.7/dist-packages (from jupyter->hyperas) (7.6.5)\n",
            "Requirement already satisfied: ipython>=4.0.0 in /usr/local/lib/python3.7/dist-packages (from ipykernel->jupyter->hyperas) (5.5.0)\n",
            "Requirement already satisfied: traitlets>=4.1.0 in /usr/local/lib/python3.7/dist-packages (from ipykernel->jupyter->hyperas) (5.1.1)\n",
            "Requirement already satisfied: jupyter-client in /usr/local/lib/python3.7/dist-packages (from ipykernel->jupyter->hyperas) (5.3.5)\n",
            "Requirement already satisfied: tornado>=4.0 in /usr/local/lib/python3.7/dist-packages (from ipykernel->jupyter->hyperas) (5.1.1)\n",
            "Requirement already satisfied: pickleshare in /usr/local/lib/python3.7/dist-packages (from ipython>=4.0.0->ipykernel->jupyter->hyperas) (0.7.5)\n",
            "Requirement already satisfied: pexpect in /usr/local/lib/python3.7/dist-packages (from ipython>=4.0.0->ipykernel->jupyter->hyperas) (4.8.0)\n",
            "Requirement already satisfied: pygments in /usr/local/lib/python3.7/dist-packages (from ipython>=4.0.0->ipykernel->jupyter->hyperas) (2.6.1)\n",
            "Requirement already satisfied: decorator in /usr/local/lib/python3.7/dist-packages (from ipython>=4.0.0->ipykernel->jupyter->hyperas) (4.4.2)\n",
            "Requirement already satisfied: simplegeneric>0.8 in /usr/local/lib/python3.7/dist-packages (from ipython>=4.0.0->ipykernel->jupyter->hyperas) (0.8.1)\n",
            "Requirement already satisfied: prompt-toolkit<2.0.0,>=1.0.4 in /usr/local/lib/python3.7/dist-packages (from ipython>=4.0.0->ipykernel->jupyter->hyperas) (1.0.18)\n",
            "Requirement already satisfied: setuptools>=18.5 in /usr/local/lib/python3.7/dist-packages (from ipython>=4.0.0->ipykernel->jupyter->hyperas) (57.4.0)\n",
            "Requirement already satisfied: wcwidth in /usr/local/lib/python3.7/dist-packages (from prompt-toolkit<2.0.0,>=1.0.4->ipython>=4.0.0->ipykernel->jupyter->hyperas) (0.2.5)\n",
            "Requirement already satisfied: jupyterlab-widgets>=1.0.0 in /usr/local/lib/python3.7/dist-packages (from ipywidgets->jupyter->hyperas) (1.0.2)\n",
            "Requirement already satisfied: widgetsnbextension~=3.5.0 in /usr/local/lib/python3.7/dist-packages (from ipywidgets->jupyter->hyperas) (3.5.2)\n",
            "Requirement already satisfied: ipython-genutils~=0.2.0 in /usr/local/lib/python3.7/dist-packages (from ipywidgets->jupyter->hyperas) (0.2.0)\n",
            "Requirement already satisfied: jupyter-core in /usr/local/lib/python3.7/dist-packages (from nbformat->hyperas) (4.9.1)\n",
            "Requirement already satisfied: jsonschema!=2.5.0,>=2.4 in /usr/local/lib/python3.7/dist-packages (from nbformat->hyperas) (4.3.3)\n",
            "Requirement already satisfied: importlib-resources>=1.4.0 in /usr/local/lib/python3.7/dist-packages (from jsonschema!=2.5.0,>=2.4->nbformat->hyperas) (5.4.0)\n",
            "Requirement already satisfied: attrs>=17.4.0 in /usr/local/lib/python3.7/dist-packages (from jsonschema!=2.5.0,>=2.4->nbformat->hyperas) (21.4.0)\n",
            "Requirement already satisfied: pyrsistent!=0.17.0,!=0.17.1,!=0.17.2,>=0.14.0 in /usr/local/lib/python3.7/dist-packages (from jsonschema!=2.5.0,>=2.4->nbformat->hyperas) (0.18.0)\n",
            "Requirement already satisfied: importlib-metadata in /usr/local/lib/python3.7/dist-packages (from jsonschema!=2.5.0,>=2.4->nbformat->hyperas) (4.10.0)\n",
            "Requirement already satisfied: typing-extensions in /usr/local/lib/python3.7/dist-packages (from jsonschema!=2.5.0,>=2.4->nbformat->hyperas) (3.10.0.2)\n",
            "Requirement already satisfied: zipp>=3.1.0 in /usr/local/lib/python3.7/dist-packages (from importlib-resources>=1.4.0->jsonschema!=2.5.0,>=2.4->nbformat->hyperas) (3.7.0)\n",
            "Requirement already satisfied: terminado>=0.8.1 in /usr/local/lib/python3.7/dist-packages (from notebook->jupyter->hyperas) (0.12.1)\n",
            "Requirement already satisfied: jinja2 in /usr/local/lib/python3.7/dist-packages (from notebook->jupyter->hyperas) (2.11.3)\n",
            "Requirement already satisfied: Send2Trash in /usr/local/lib/python3.7/dist-packages (from notebook->jupyter->hyperas) (1.8.0)\n",
            "Requirement already satisfied: python-dateutil>=2.1 in /usr/local/lib/python3.7/dist-packages (from jupyter-client->ipykernel->jupyter->hyperas) (2.8.2)\n",
            "Requirement already satisfied: pyzmq>=13 in /usr/local/lib/python3.7/dist-packages (from jupyter-client->ipykernel->jupyter->hyperas) (22.3.0)\n",
            "Requirement already satisfied: ptyprocess in /usr/local/lib/python3.7/dist-packages (from terminado>=0.8.1->notebook->jupyter->hyperas) (0.7.0)\n",
            "Requirement already satisfied: MarkupSafe>=0.23 in /usr/local/lib/python3.7/dist-packages (from jinja2->notebook->jupyter->hyperas) (2.0.1)\n",
            "Requirement already satisfied: pandocfilters>=1.4.1 in /usr/local/lib/python3.7/dist-packages (from nbconvert->hyperas) (1.5.0)\n",
            "Requirement already satisfied: defusedxml in /usr/local/lib/python3.7/dist-packages (from nbconvert->hyperas) (0.7.1)\n",
            "Requirement already satisfied: testpath in /usr/local/lib/python3.7/dist-packages (from nbconvert->hyperas) (0.5.0)\n",
            "Requirement already satisfied: bleach in /usr/local/lib/python3.7/dist-packages (from nbconvert->hyperas) (4.1.0)\n",
            "Requirement already satisfied: mistune<2,>=0.8.1 in /usr/local/lib/python3.7/dist-packages (from nbconvert->hyperas) (0.8.4)\n",
            "Requirement already satisfied: packaging in /usr/local/lib/python3.7/dist-packages (from bleach->nbconvert->hyperas) (21.3)\n",
            "Requirement already satisfied: webencodings in /usr/local/lib/python3.7/dist-packages (from bleach->nbconvert->hyperas) (0.5.1)\n",
            "Requirement already satisfied: pyparsing!=3.0.5,>=2.0.2 in /usr/local/lib/python3.7/dist-packages (from packaging->bleach->nbconvert->hyperas) (3.0.6)\n",
            "Requirement already satisfied: qtpy in /usr/local/lib/python3.7/dist-packages (from qtconsole->jupyter->hyperas) (2.0.0)\n",
            "Installing collected packages: hyperas\n",
            "Successfully installed hyperas-0.4.1\n",
            "Requirement already satisfied: hyperopt in /usr/local/lib/python3.7/dist-packages (0.1.2)\n",
            "Requirement already satisfied: tqdm in /usr/local/lib/python3.7/dist-packages (from hyperopt) (4.62.3)\n",
            "Requirement already satisfied: pymongo in /usr/local/lib/python3.7/dist-packages (from hyperopt) (4.0.1)\n",
            "Requirement already satisfied: future in /usr/local/lib/python3.7/dist-packages (from hyperopt) (0.16.0)\n",
            "Requirement already satisfied: six in /usr/local/lib/python3.7/dist-packages (from hyperopt) (1.15.0)\n",
            "Requirement already satisfied: scipy in /usr/local/lib/python3.7/dist-packages (from hyperopt) (1.4.1)\n",
            "Requirement already satisfied: networkx in /usr/local/lib/python3.7/dist-packages (from hyperopt) (2.6.3)\n",
            "Requirement already satisfied: numpy in /usr/local/lib/python3.7/dist-packages (from hyperopt) (1.19.5)\n"
          ]
        }
      ]
    },
    {
      "cell_type": "code",
      "metadata": {
        "id": "hkk481ACwj-R"
      },
      "source": [
        "from hyperopt import Trials, STATUS_OK, tpe\n",
        "\n",
        "from hyperas import optim\n",
        "from hyperas.distributions import choice, uniform\n",
        "from hyperas.utils import eval_hyperopt_space\n",
        "\n",
        "import matplotlib.pyplot as plt\n",
        "import pandas as pd\n",
        "from matplotlib import pyplot\n",
        "from sklearn.preprocessing import StandardScaler\n",
        "import keras\n",
        "from keras.models import Sequential\n",
        "from keras.layers import Dense\n",
        "from keras.layers import Flatten\n",
        "from keras.layers import Dropout\n",
        "from keras.layers.convolutional import Conv1D\n",
        "from keras.layers.convolutional import MaxPooling1D\n",
        "from keras.models import Sequential\n",
        "from keras.layers import LSTM\n",
        "from keras.layers.core import Dense, Dropout\n",
        "\n",
        "import itertools\n",
        "\n",
        "import numpy as np\n",
        "import tensorflow as tf\n",
        "import random as rn\n",
        "\n",
        "from sklearn import metrics\n",
        "from sklearn.metrics import f1_score\n",
        "from sklearn.metrics import classification_report, confusion_matrix\n",
        "\n",
        "import pickle"
      ],
      "execution_count": null,
      "outputs": []
    },
    {
      "cell_type": "code",
      "metadata": {
        "colab": {
          "base_uri": "https://localhost:8080/"
        },
        "id": "lYHdvCbPwkAR",
        "outputId": "820d4d22-7671-4b0f-ee4d-63f762fc35ef"
      },
      "source": [
        "from google.colab import drive\n",
        "drive.mount('/content/drive')"
      ],
      "execution_count": null,
      "outputs": [
        {
          "output_type": "stream",
          "name": "stdout",
          "text": [
            "Drive already mounted at /content/drive; to attempt to forcibly remount, call drive.mount(\"/content/drive\", force_remount=True).\n"
          ]
        }
      ]
    },
    {
      "cell_type": "code",
      "metadata": {
        "id": "prAjSpcDwkCt"
      },
      "source": [
        "# Direktori dataset\n",
        "DATADIR = '/content/drive/My Drive/Colab Notebooks/UCI HAR Dataset/'"
      ],
      "execution_count": null,
      "outputs": []
    },
    {
      "cell_type": "code",
      "metadata": {
        "id": "GW1goHAXxK1x"
      },
      "source": [
        ""
      ],
      "execution_count": null,
      "outputs": []
    },
    {
      "cell_type": "code",
      "metadata": {
        "id": "MnSfJKUmxLSn"
      },
      "source": [
        "def data_scaled():\n",
        "    SIGNALS = [\n",
        "        \"body_acc_x\",\n",
        "        \"body_acc_y\",\n",
        "        \"body_acc_z\",\n",
        "        \"body_gyro_x\",\n",
        "        \"body_gyro_y\",\n",
        "        \"body_gyro_z\",\n",
        "        \"total_acc_x\",\n",
        "        \"total_acc_y\",\n",
        "        \"total_acc_z\"\n",
        "        ]\n",
        "    from sklearn.base import BaseEstimator, TransformerMixin\n",
        "    class scaling_tseries_data(BaseEstimator, TransformerMixin):\n",
        "        from sklearn.preprocessing import StandardScaler\n",
        "        def __init__(self):\n",
        "            self.scale = None\n",
        "\n",
        "        def transform(self, X):\n",
        "            temp_X1 = X.reshape((X.shape[0] * X.shape[1], X.shape[2]))\n",
        "            temp_X1 = self.scale.transform(temp_X1)\n",
        "            return temp_X1.reshape(X.shape)\n",
        "\n",
        "        def fit(self, X):\n",
        "            # remove overlaping\n",
        "            remove = int(X.shape[1] / 2)\n",
        "            temp_X = X[:, -remove:, :]\n",
        "            # flatten data\n",
        "            temp_X = temp_X.reshape((temp_X.shape[0] * temp_X.shape[1], temp_X.shape[2]))\n",
        "            scale = StandardScaler()\n",
        "            scale.fit(temp_X)\n",
        "            #for furter use at prediction pipeline\n",
        "            pickle.dump(scale,open('Scale_dinamis.p','wb'))\n",
        "            self.scale = scale\n",
        "            return self\n",
        "        \n",
        "    def _read_csv(filename):\n",
        "        return pd.read_csv(filename, delim_whitespace=True, header=None)\n",
        "\n",
        "    def load_signals(subset):\n",
        "        signals_data = []\n",
        "\n",
        "        for signal in SIGNALS:\n",
        "            filename = f'/content/drive/My Drive/Colab Notebooks/UCI HAR Dataset/{subset}/Inertial Signals/{signal}_{subset}.txt'\n",
        "            signals_data.append( _read_csv(filename).values)\n",
        "\n",
        "        return np.transpose(signals_data, (1, 2, 0))\n",
        "    \n",
        "    def load_y(subset):\n",
        "        filename = f'/content/drive/My Drive/Colab Notebooks/UCI HAR Dataset/{subset}/y_{subset}.txt'\n",
        "        y = _read_csv(filename)[0]\n",
        "        y_subset = y>3\n",
        "        y = y[y_subset]\n",
        "        return pd.get_dummies(y).values,y_subset\n",
        "    \n",
        "    Y_train,y_train_sub = load_y('train')\n",
        "    Y_test,y_test_sub = load_y('test')\n",
        "    X_train, X_test = load_signals('train'), load_signals('test')\n",
        "    X_train = X_train[y_train_sub]\n",
        "    X_test = X_test[y_test_sub]\n",
        "    \n",
        "    #Scaling\n",
        "    Scale = scaling_tseries_data()\n",
        "    Scale.fit(X_train)\n",
        "    X_train = Scale.transform(X_train)\n",
        "    X_test = Scale.transform(X_test)\n",
        "\n",
        "    return X_train, Y_train, X_test,  Y_test"
      ],
      "execution_count": null,
      "outputs": []
    },
    {
      "cell_type": "code",
      "metadata": {
        "id": "EzS_rA0JxWEw"
      },
      "source": [
        "import pandas as pd"
      ],
      "execution_count": null,
      "outputs": []
    },
    {
      "cell_type": "code",
      "metadata": {
        "id": "F6tntWChxWQ-"
      },
      "source": [
        "X_train, Y_train, X_test, Y_test = data_scaled()"
      ],
      "execution_count": null,
      "outputs": []
    },
    {
      "cell_type": "code",
      "metadata": {
        "id": "zSMmr4sPxczl"
      },
      "source": [
        "# Importing tensorflow\n",
        "np.random.seed(42)\n",
        "import tensorflow as tf\n",
        "tf.random.set_seed(42)"
      ],
      "execution_count": null,
      "outputs": []
    },
    {
      "cell_type": "code",
      "metadata": {
        "id": "-lTH3-KTxc-p"
      },
      "source": [
        "# Configuring a session\n",
        "session_conf = tf.compat.v1.ConfigProto(\n",
        "    intra_op_parallelism_threads=1,\n",
        "    inter_op_parallelism_threads=1\n",
        ")"
      ],
      "execution_count": null,
      "outputs": []
    },
    {
      "cell_type": "code",
      "metadata": {
        "id": "0atVnEHvxl8g"
      },
      "source": [
        "# Import Keras\n",
        "from tensorflow.compat.v1.keras import backend as K\n",
        "sess = tf.compat.v1.Session(graph=tf.compat.v1.get_default_graph(), config=session_conf)\n",
        "K.set_session(sess)"
      ],
      "execution_count": null,
      "outputs": []
    },
    {
      "cell_type": "code",
      "metadata": {
        "colab": {
          "base_uri": "https://localhost:8080/"
        },
        "id": "ICrxEK4TZ553",
        "outputId": "239597e9-66cb-425c-8e6b-eb0b0925b004"
      },
      "source": [
        "Y_test.shape"
      ],
      "execution_count": null,
      "outputs": [
        {
          "output_type": "execute_result",
          "data": {
            "text/plain": [
              "(1560, 3)"
            ]
          },
          "metadata": {},
          "execution_count": 14
        }
      ]
    },
    {
      "cell_type": "code",
      "metadata": {
        "colab": {
          "base_uri": "https://localhost:8080/"
        },
        "id": "Rp3MZ798xqFH",
        "outputId": "8d9cd51c-a418-43b3-a3d7-1f44bf46aa1c"
      },
      "source": [
        "print('X Shape of train data',X_train.shape, 'Y shape', Y_train.shape)\n",
        "print('X Shape of val data',X_test.shape,'Y shape',Y_test.shape)"
      ],
      "execution_count": null,
      "outputs": [
        {
          "output_type": "stream",
          "name": "stdout",
          "text": [
            "X Shape of train data (4067, 128, 9) Y shape (4067, 3)\n",
            "X Shape of val data (1560, 128, 9) Y shape (1560, 3)\n"
          ]
        }
      ]
    },
    {
      "cell_type": "code",
      "metadata": {
        "id": "3I-L3GQWaS0o"
      },
      "source": [
        "from keras.layers import Dropout, TimeDistributed, Dense, Activation, Embedding,Flatten\n",
        "from keras.layers import BatchNormalization\n",
        "from keras.layers import Conv1D, MaxPooling1D\n",
        "from tensorflow.keras.optimizers import Adam, RMSprop\n",
        "#from keras.regularizers import l2,l1"
      ],
      "execution_count": null,
      "outputs": []
    },
    {
      "cell_type": "code",
      "metadata": {
        "id": "kYXwP4fixqGw",
        "colab": {
          "base_uri": "https://localhost:8080/"
        },
        "outputId": "8ec17f76-ad54-45d3-c35e-b44136a21794"
      },
      "source": [
        "import time\n",
        "start = time.time()\n",
        "\n",
        "model = Sequential()\n",
        "model.add(Conv1D(256, 5, \n",
        "                 activation='relu', \n",
        "                 kernel_initializer='he_uniform', \n",
        "                 #kernel_regularizer=tf.keras.regularizers.L2(0.3), \n",
        "                 input_shape=(128,9)))\n",
        "model.add(Dropout(0.2))\n",
        "model.add(Conv1D(128, 3,\n",
        "                 activation='relu', \n",
        "                 kernel_initializer='he_uniform'))\n",
        "                 #kernel_regularizer=tf.keras.regularizers.L2(0.2)))\n",
        "model.add(Dropout(0.3))\n",
        "model.add(MaxPooling1D(2))\n",
        "model.add(Flatten())\n",
        "model.add(Dense(1024, activation='relu'))\n",
        "model.add(Dense(3, activation='softmax'))\n",
        "\n",
        "print(model.summary())\n",
        "\n",
        "model.compile(loss='categorical_crossentropy',\n",
        "              metrics=['accuracy'],\n",
        "              optimizer=Adam(learning_rate=0.01))\n",
        "    \n",
        "result = model.fit(X_train, Y_train,\n",
        "                   batch_size=32,\n",
        "                   epochs= 50,\n",
        "                   verbose=1,\n",
        "                   validation_data=(X_test, Y_test))\n",
        "\n",
        "\n",
        "end = time.time()\n",
        "print(\"WAKTU TRAINING:\", end - start, \"seconds\")"
      ],
      "execution_count": null,
      "outputs": [
        {
          "output_type": "stream",
          "name": "stdout",
          "text": [
            "Model: \"sequential\"\n",
            "_________________________________________________________________\n",
            " Layer (type)                Output Shape              Param #   \n",
            "=================================================================\n",
            " conv1d (Conv1D)             (None, 124, 256)          11776     \n",
            "                                                                 \n",
            " dropout (Dropout)           (None, 124, 256)          0         \n",
            "                                                                 \n",
            " conv1d_1 (Conv1D)           (None, 122, 128)          98432     \n",
            "                                                                 \n",
            " dropout_1 (Dropout)         (None, 122, 128)          0         \n",
            "                                                                 \n",
            " max_pooling1d (MaxPooling1D  (None, 61, 128)          0         \n",
            " )                                                               \n",
            "                                                                 \n",
            " flatten (Flatten)           (None, 7808)              0         \n",
            "                                                                 \n",
            " dense (Dense)               (None, 1024)              7996416   \n",
            "                                                                 \n",
            " dense_1 (Dense)             (None, 3)                 3075      \n",
            "                                                                 \n",
            "=================================================================\n",
            "Total params: 8,109,699\n",
            "Trainable params: 8,109,699\n",
            "Non-trainable params: 0\n",
            "_________________________________________________________________\n",
            "None\n",
            "Epoch 1/50\n",
            "128/128 [==============================] - 15s 18ms/step - loss: 6.5026 - accuracy: 0.6501 - val_loss: 0.7742 - val_accuracy: 0.7660\n",
            "Epoch 2/50\n",
            "128/128 [==============================] - 2s 15ms/step - loss: 0.4832 - accuracy: 0.8136 - val_loss: 0.5009 - val_accuracy: 0.8019\n",
            "Epoch 3/50\n",
            "128/128 [==============================] - 2s 15ms/step - loss: 0.4111 - accuracy: 0.8448 - val_loss: 0.4535 - val_accuracy: 0.8429\n",
            "Epoch 4/50\n",
            "128/128 [==============================] - 2s 15ms/step - loss: 0.3873 - accuracy: 0.8584 - val_loss: 0.4095 - val_accuracy: 0.8679\n",
            "Epoch 5/50\n",
            "128/128 [==============================] - 2s 15ms/step - loss: 0.3416 - accuracy: 0.8773 - val_loss: 0.4587 - val_accuracy: 0.8397\n",
            "Epoch 6/50\n",
            "128/128 [==============================] - 2s 14ms/step - loss: 0.3429 - accuracy: 0.8832 - val_loss: 0.4568 - val_accuracy: 0.8231\n",
            "Epoch 7/50\n",
            "128/128 [==============================] - 2s 14ms/step - loss: 0.3216 - accuracy: 0.8837 - val_loss: 0.4281 - val_accuracy: 0.8596\n",
            "Epoch 8/50\n",
            "128/128 [==============================] - 2s 15ms/step - loss: 0.3116 - accuracy: 0.8933 - val_loss: 0.3797 - val_accuracy: 0.8705\n",
            "Epoch 9/50\n",
            "128/128 [==============================] - 2s 15ms/step - loss: 0.8385 - accuracy: 0.8608 - val_loss: 0.8336 - val_accuracy: 0.6551\n",
            "Epoch 10/50\n",
            "128/128 [==============================] - 2s 15ms/step - loss: 0.4536 - accuracy: 0.8488 - val_loss: 0.6426 - val_accuracy: 0.7885\n",
            "Epoch 11/50\n",
            "128/128 [==============================] - 2s 14ms/step - loss: 0.3565 - accuracy: 0.8736 - val_loss: 0.5227 - val_accuracy: 0.7276\n",
            "Epoch 12/50\n",
            "128/128 [==============================] - 2s 14ms/step - loss: 0.4072 - accuracy: 0.8667 - val_loss: 0.4879 - val_accuracy: 0.8506\n",
            "Epoch 13/50\n",
            "128/128 [==============================] - 2s 15ms/step - loss: 0.3309 - accuracy: 0.8874 - val_loss: 0.5091 - val_accuracy: 0.8276\n",
            "Epoch 14/50\n",
            "128/128 [==============================] - 2s 14ms/step - loss: 0.3299 - accuracy: 0.8913 - val_loss: 0.5319 - val_accuracy: 0.8564\n",
            "Epoch 15/50\n",
            "128/128 [==============================] - 2s 15ms/step - loss: 0.3827 - accuracy: 0.8675 - val_loss: 0.3807 - val_accuracy: 0.8686\n",
            "Epoch 16/50\n",
            "128/128 [==============================] - 2s 14ms/step - loss: 0.3706 - accuracy: 0.8731 - val_loss: 0.4151 - val_accuracy: 0.8173\n",
            "Epoch 17/50\n",
            "128/128 [==============================] - 2s 14ms/step - loss: 0.3337 - accuracy: 0.8793 - val_loss: 0.4294 - val_accuracy: 0.8513\n",
            "Epoch 18/50\n",
            "128/128 [==============================] - 2s 14ms/step - loss: 0.3115 - accuracy: 0.8972 - val_loss: 0.3231 - val_accuracy: 0.8942\n",
            "Epoch 19/50\n",
            "128/128 [==============================] - 2s 14ms/step - loss: 0.3138 - accuracy: 0.8903 - val_loss: 0.5537 - val_accuracy: 0.8019\n",
            "Epoch 20/50\n",
            "128/128 [==============================] - 2s 14ms/step - loss: 0.3219 - accuracy: 0.8876 - val_loss: 0.5281 - val_accuracy: 0.8256\n",
            "Epoch 21/50\n",
            "128/128 [==============================] - 2s 15ms/step - loss: 0.2866 - accuracy: 0.9044 - val_loss: 0.5962 - val_accuracy: 0.8147\n",
            "Epoch 22/50\n",
            "128/128 [==============================] - 2s 14ms/step - loss: 0.2499 - accuracy: 0.9176 - val_loss: 0.6120 - val_accuracy: 0.8103\n",
            "Epoch 23/50\n",
            "128/128 [==============================] - 2s 14ms/step - loss: 0.3601 - accuracy: 0.8842 - val_loss: 0.6406 - val_accuracy: 0.7647\n",
            "Epoch 24/50\n",
            "128/128 [==============================] - 2s 14ms/step - loss: 0.3227 - accuracy: 0.8918 - val_loss: 0.4392 - val_accuracy: 0.8558\n",
            "Epoch 25/50\n",
            "128/128 [==============================] - 2s 14ms/step - loss: 0.2763 - accuracy: 0.9122 - val_loss: 0.6749 - val_accuracy: 0.7910\n",
            "Epoch 26/50\n",
            "128/128 [==============================] - 2s 15ms/step - loss: 0.2770 - accuracy: 0.9080 - val_loss: 0.5663 - val_accuracy: 0.8327\n",
            "Epoch 27/50\n",
            "128/128 [==============================] - 2s 14ms/step - loss: 0.3899 - accuracy: 0.8884 - val_loss: 0.7154 - val_accuracy: 0.8032\n",
            "Epoch 28/50\n",
            "128/128 [==============================] - 2s 15ms/step - loss: 0.3956 - accuracy: 0.8812 - val_loss: 0.7484 - val_accuracy: 0.8199\n",
            "Epoch 29/50\n",
            "128/128 [==============================] - 2s 14ms/step - loss: 0.5793 - accuracy: 0.8530 - val_loss: 0.4978 - val_accuracy: 0.8635\n",
            "Epoch 30/50\n",
            "128/128 [==============================] - 2s 15ms/step - loss: 0.4174 - accuracy: 0.8800 - val_loss: 0.6412 - val_accuracy: 0.8000\n",
            "Epoch 31/50\n",
            "128/128 [==============================] - 2s 15ms/step - loss: 0.4012 - accuracy: 0.8800 - val_loss: 0.5505 - val_accuracy: 0.7917\n",
            "Epoch 32/50\n",
            "128/128 [==============================] - 2s 14ms/step - loss: 0.3788 - accuracy: 0.8785 - val_loss: 0.5521 - val_accuracy: 0.7994\n",
            "Epoch 33/50\n",
            "128/128 [==============================] - 2s 14ms/step - loss: 0.3522 - accuracy: 0.8827 - val_loss: 0.5366 - val_accuracy: 0.8212\n",
            "Epoch 34/50\n",
            "128/128 [==============================] - 2s 15ms/step - loss: 0.3008 - accuracy: 0.9016 - val_loss: 0.4097 - val_accuracy: 0.8769\n",
            "Epoch 35/50\n",
            "128/128 [==============================] - 2s 14ms/step - loss: 0.7015 - accuracy: 0.8419 - val_loss: 0.8096 - val_accuracy: 0.6769\n",
            "Epoch 36/50\n",
            "128/128 [==============================] - 2s 14ms/step - loss: 0.5787 - accuracy: 0.8124 - val_loss: 0.7983 - val_accuracy: 0.7506\n",
            "Epoch 37/50\n",
            "128/128 [==============================] - 2s 14ms/step - loss: 0.4163 - accuracy: 0.8532 - val_loss: 0.5787 - val_accuracy: 0.8135\n",
            "Epoch 38/50\n",
            "128/128 [==============================] - 2s 14ms/step - loss: 0.4417 - accuracy: 0.8554 - val_loss: 0.5048 - val_accuracy: 0.8622\n",
            "Epoch 39/50\n",
            "128/128 [==============================] - 2s 15ms/step - loss: 0.4403 - accuracy: 0.8657 - val_loss: 0.5889 - val_accuracy: 0.8385\n",
            "Epoch 40/50\n",
            "128/128 [==============================] - 2s 14ms/step - loss: 0.5802 - accuracy: 0.8387 - val_loss: 0.5925 - val_accuracy: 0.8609\n",
            "Epoch 41/50\n",
            "128/128 [==============================] - 2s 14ms/step - loss: 0.4836 - accuracy: 0.8493 - val_loss: 0.4869 - val_accuracy: 0.8596\n",
            "Epoch 42/50\n",
            "128/128 [==============================] - 2s 14ms/step - loss: 0.4432 - accuracy: 0.8812 - val_loss: 0.5397 - val_accuracy: 0.8077\n",
            "Epoch 43/50\n",
            "128/128 [==============================] - 2s 14ms/step - loss: 0.4109 - accuracy: 0.8756 - val_loss: 0.5975 - val_accuracy: 0.8244\n",
            "Epoch 44/50\n",
            "128/128 [==============================] - 2s 14ms/step - loss: 1.1216 - accuracy: 0.8490 - val_loss: 0.8349 - val_accuracy: 0.6718\n",
            "Epoch 45/50\n",
            "128/128 [==============================] - 2s 15ms/step - loss: 0.5739 - accuracy: 0.8045 - val_loss: 0.6376 - val_accuracy: 0.7519\n",
            "Epoch 46/50\n",
            "128/128 [==============================] - 2s 14ms/step - loss: 2.0085 - accuracy: 0.8321 - val_loss: 1.1170 - val_accuracy: 0.7532\n",
            "Epoch 47/50\n",
            "128/128 [==============================] - 2s 14ms/step - loss: 0.8130 - accuracy: 0.7893 - val_loss: 0.5521 - val_accuracy: 0.8288\n",
            "Epoch 48/50\n",
            "128/128 [==============================] - 2s 14ms/step - loss: 0.9606 - accuracy: 0.7994 - val_loss: 0.7755 - val_accuracy: 0.6192\n",
            "Epoch 49/50\n",
            "128/128 [==============================] - 2s 15ms/step - loss: 0.4965 - accuracy: 0.8158 - val_loss: 0.5231 - val_accuracy: 0.8109\n",
            "Epoch 50/50\n",
            "128/128 [==============================] - 2s 14ms/step - loss: 0.4460 - accuracy: 0.8375 - val_loss: 0.4944 - val_accuracy: 0.8282\n",
            "WAKTU TRAINING: 143.20971035957336 seconds\n"
          ]
        }
      ]
    },
    {
      "cell_type": "code",
      "metadata": {
        "id": "JO6tY150c9ZM",
        "colab": {
          "base_uri": "https://localhost:8080/"
        },
        "outputId": "ca7a2a05-750e-40b6-93d0-fc760305c02c"
      },
      "source": [
        "_,acc_val = result.model.evaluate(X_test,Y_test,verbose=0)\n",
        "_,acc_train = result.model.evaluate(X_train,Y_train,verbose=0)\n",
        "print('Train_accuracy',acc_train,'test_accuracy',acc_val)"
      ],
      "execution_count": null,
      "outputs": [
        {
          "output_type": "stream",
          "name": "stdout",
          "text": [
            "Train_accuracy 0.8332923650741577 test_accuracy 0.8282051086425781\n"
          ]
        }
      ]
    },
    {
      "cell_type": "code",
      "metadata": {
        "id": "kLEaapLydBg_",
        "colab": {
          "base_uri": "https://localhost:8080/",
          "height": 544
        },
        "outputId": "eae7e467-bd93-4b69-f351-4cc288c5b472"
      },
      "source": [
        "accuracy = result.history['accuracy']\n",
        "val_accuracy = result.history['val_accuracy']\n",
        "loss = result.history['loss']\n",
        "val_loss = result.history['val_loss']\n",
        "\n",
        "epochs = range(len(accuracy))\n",
        "plt.plot(epochs, accuracy, 'bo', label='Training accuracy')\n",
        "plt.plot(epochs, val_accuracy, 'b', label='Validation accuracy',color='Red')\n",
        "plt.title('Accuracy')\n",
        "plt.legend()\n",
        "plt.figure()\n",
        "plt.plot(epochs, loss, 'bo', label='Training loss')\n",
        "plt.plot(epochs, val_loss, 'b', label='Validation loss',color='Red')\n",
        "plt.title('Loss')\n",
        "plt.legend()\n",
        "plt.show()"
      ],
      "execution_count": null,
      "outputs": [
        {
          "output_type": "display_data",
          "data": {
            "image/png": "[encoded data removed]",
            "text/plain": [
              "<Figure size 432x288 with 1 Axes>"
            ]
          },
          "metadata": {
            "needs_background": "light"
          }
        },
        {
          "output_type": "display_data",
          "data": {
            "image/png": "[encoded data removed]",
            "text/plain": [
              "<Figure size 432x288 with 1 Axes>"
            ]
          },
          "metadata": {
            "needs_background": "light"
          }
        }
      ]
    },
    {
      "cell_type": "code",
      "metadata": {
        "id": "6B50jGRydBqg",
        "colab": {
          "base_uri": "https://localhost:8080/"
        },
        "outputId": "4ae8bb1c-ad79-44d4-dcde-1db584ea97c7"
      },
      "source": [
        "y_predict=result.model.predict(X_test)\n",
        "\n",
        "#setting agar bisa dibaca conf matrix\n",
        "rounded_predicts=np.argmax(y_predict, axis=1)\n",
        "rounded_labels=np.argmax(Y_test, axis=1)\n",
        "print(y_predict.shape,Y_test.shape,Y_train.shape)"
      ],
      "execution_count": null,
      "outputs": [
        {
          "output_type": "stream",
          "name": "stdout",
          "text": [
            "(1560, 3) (1560, 3) (4067, 3)\n"
          ]
        }
      ]
    },
    {
      "cell_type": "code",
      "metadata": {
        "id": "fLv2aXGjxqLb",
        "colab": {
          "base_uri": "https://localhost:8080/"
        },
        "outputId": "ef0309d3-9d7c-4876-fb60-62e954334ee3"
      },
      "source": [
        "# Confusion Matrix\n",
        "print(confusion_matrix(rounded_labels, rounded_predicts))"
      ],
      "execution_count": null,
      "outputs": [
        {
          "output_type": "stream",
          "name": "stdout",
          "text": [
            "[[287 138  66]\n",
            " [ 61 468   3]\n",
            " [  0   0 537]]\n"
          ]
        }
      ]
    },
    {
      "cell_type": "code",
      "metadata": {
        "id": "rrta7ZD0gn1U"
      },
      "source": [
        "import itertools\n",
        "import numpy as np\n",
        "import matplotlib.pyplot as plt\n",
        "from sklearn.metrics import confusion_matrix\n",
        "labels=['WALKING', 'WALKING_UPSTAIRS', 'WALKING_DOWNSTAIRS']\n",
        "def plot_confusion_matrix(cm, classes,\n",
        "                          normalize=False,\n",
        "                          title='Confusion matrix',\n",
        "                          cmap=plt.cm.Blues):\n",
        "    if normalize:\n",
        "        cm = cm.astype('float') / cm.sum(axis=1)[:, np.newaxis]\n",
        "    \n",
        "    plt.imshow(cm, interpolation='nearest', cmap=cmap)\n",
        "    plt.title(title)\n",
        "    plt.colorbar()\n",
        "    tick_marks = np.arange(len(classes))\n",
        "    plt.xticks(tick_marks, classes, rotation=45)\n",
        "    plt.yticks(tick_marks, classes)\n",
        "    fmt = '.2%' if normalize else 'd'\n",
        "    thresh = cm.max() / 2.\n",
        "    for i, j in itertools.product(range(cm.shape[0]), range(cm.shape[1])):\n",
        "        plt.text(j, i, format(cm[i, j], fmt),\n",
        "                 horizontalalignment=\"center\",\n",
        "                 color=\"white\" if cm[i, j] > thresh else \"black\")\n",
        "    plt.tight_layout()\n",
        "    plt.ylabel('True label')\n",
        "    plt.xlabel('Predicted label')"
      ],
      "execution_count": null,
      "outputs": []
    },
    {
      "cell_type": "code",
      "metadata": {
        "id": "M4ugq8mPgn3f",
        "colab": {
          "base_uri": "https://localhost:8080/",
          "height": 576
        },
        "outputId": "72d5f42d-bfd6-4c99-a40c-d3b3e33bffc4"
      },
      "source": [
        "import matplotlib.pyplot as plt\n",
        "plt.figure(figsize=(9,8))\n",
        "cm = confusion_matrix(rounded_labels, rounded_predicts)\n",
        "plot_confusion_matrix(cm, classes=labels, normalize=True, title='Normalized Confussion Matrix \\n', cmap = plt.cm.Blues)\n",
        "plt.show()"
      ],
      "execution_count": null,
      "outputs": [
        {
          "output_type": "display_data",
          "data": {
            "image/png": "[encoded data removed]",
            "text/plain": [
              "<Figure size 648x576 with 2 Axes>"
            ]
          },
          "metadata": {
            "needs_background": "light"
          }
        }
      ]
    },
    {
      "cell_type": "code",
      "metadata": {
        "id": "xVQp8Yw41Gwr"
      },
      "source": [
        ""
      ],
      "execution_count": null,
      "outputs": []
    },
    {
      "cell_type": "code",
      "metadata": {
        "id": "PDAU3m2J1G0P",
        "colab": {
          "base_uri": "https://localhost:8080/"
        },
        "outputId": "44547353-758a-4f7d-984c-6018495fe06e"
      },
      "source": [
        "import time\n",
        "start = time.time()\n",
        "\n",
        "model = Sequential()\n",
        "model.add(Conv1D(128, 5, \n",
        "                 activation='relu', \n",
        "                 kernel_initializer='he_uniform', \n",
        "                 #kernel_regularizer=tf.keras.regularizers.L2(0.3), \n",
        "                 input_shape=(128,9)))\n",
        "model.add(Dropout(0.2531187693487485))\n",
        "model.add(Conv1D(128, 5,\n",
        "                 activation='relu', \n",
        "                 kernel_initializer='he_uniform'))\n",
        "                 #kernel_regularizer=tf.keras.regularizers.L2(0.2)))\n",
        "model.add(Dropout(0.3911912146442763))\n",
        "model.add(MaxPooling1D(3))\n",
        "model.add(Flatten())\n",
        "model.add(Dense(512, activation='relu'))\n",
        "model.add(Dense(3, activation='softmax'))\n",
        "\n",
        "print(model.summary())\n",
        "\n",
        "model.compile(loss='categorical_crossentropy',\n",
        "              metrics=['accuracy'],\n",
        "              optimizer=Adam(learning_rate=0.0001))\n",
        "    \n",
        "result = model.fit(X_train, Y_train,\n",
        "                   batch_size=15,\n",
        "                   epochs= 65,\n",
        "                   verbose=1,\n",
        "                   validation_data=(X_test, Y_test))\n",
        "\n",
        "\n",
        "end = time.time()\n",
        "print(\"WAKTU TRAINING:\", end - start, \"seconds\")"
      ],
      "execution_count": null,
      "outputs": [
        {
          "output_type": "stream",
          "name": "stdout",
          "text": [
            "Model: \"sequential_1\"\n",
            "_________________________________________________________________\n",
            " Layer (type)                Output Shape              Param #   \n",
            "=================================================================\n",
            " conv1d_2 (Conv1D)           (None, 124, 128)          5888      \n",
            "                                                                 \n",
            " dropout_2 (Dropout)         (None, 124, 128)          0         \n",
            "                                                                 \n",
            " conv1d_3 (Conv1D)           (None, 120, 128)          82048     \n",
            "                                                                 \n",
            " dropout_3 (Dropout)         (None, 120, 128)          0         \n",
            "                                                                 \n",
            " max_pooling1d_1 (MaxPooling  (None, 40, 128)          0         \n",
            " 1D)                                                             \n",
            "                                                                 \n",
            " flatten_1 (Flatten)         (None, 5120)              0         \n",
            "                                                                 \n",
            " dense_2 (Dense)             (None, 512)               2621952   \n",
            "                                                                 \n",
            " dense_3 (Dense)             (None, 3)                 1539      \n",
            "                                                                 \n",
            "=================================================================\n",
            "Total params: 2,711,427\n",
            "Trainable params: 2,711,427\n",
            "Non-trainable params: 0\n",
            "_________________________________________________________________\n",
            "None\n",
            "Epoch 1/65\n",
            "272/272 [==============================] - 4s 11ms/step - loss: 0.4600 - accuracy: 0.8628 - val_loss: 0.3193 - val_accuracy: 0.8923\n",
            "Epoch 2/65\n",
            "272/272 [==============================] - 2s 9ms/step - loss: 0.2487 - accuracy: 0.9112 - val_loss: 0.3111 - val_accuracy: 0.8782\n",
            "Epoch 3/65\n",
            "272/272 [==============================] - 2s 9ms/step - loss: 0.1849 - accuracy: 0.9282 - val_loss: 0.2805 - val_accuracy: 0.9064\n",
            "Epoch 4/65\n",
            "272/272 [==============================] - 2s 8ms/step - loss: 0.1571 - accuracy: 0.9361 - val_loss: 0.2525 - val_accuracy: 0.9256\n",
            "Epoch 5/65\n",
            "272/272 [==============================] - 2s 9ms/step - loss: 0.1372 - accuracy: 0.9420 - val_loss: 0.2410 - val_accuracy: 0.9154\n",
            "Epoch 6/65\n",
            "272/272 [==============================] - 3s 9ms/step - loss: 0.1278 - accuracy: 0.9442 - val_loss: 0.2707 - val_accuracy: 0.9269\n",
            "Epoch 7/65\n",
            "272/272 [==============================] - 3s 9ms/step - loss: 0.1410 - accuracy: 0.9462 - val_loss: 0.2550 - val_accuracy: 0.9276\n",
            "Epoch 8/65\n",
            "272/272 [==============================] - 3s 10ms/step - loss: 0.1175 - accuracy: 0.9560 - val_loss: 0.3277 - val_accuracy: 0.9135\n",
            "Epoch 9/65\n",
            "272/272 [==============================] - 3s 10ms/step - loss: 0.1336 - accuracy: 0.9525 - val_loss: 0.3491 - val_accuracy: 0.9212\n",
            "Epoch 10/65\n",
            "272/272 [==============================] - 3s 10ms/step - loss: 0.1037 - accuracy: 0.9621 - val_loss: 0.2072 - val_accuracy: 0.9282\n",
            "Epoch 11/65\n",
            "272/272 [==============================] - 3s 11ms/step - loss: 0.0922 - accuracy: 0.9634 - val_loss: 0.2316 - val_accuracy: 0.9314\n",
            "Epoch 12/65\n",
            "272/272 [==============================] - 3s 10ms/step - loss: 0.0845 - accuracy: 0.9658 - val_loss: 0.2212 - val_accuracy: 0.9404\n",
            "Epoch 13/65\n",
            "272/272 [==============================] - 3s 10ms/step - loss: 0.0714 - accuracy: 0.9710 - val_loss: 0.2478 - val_accuracy: 0.9250\n",
            "Epoch 14/65\n",
            "272/272 [==============================] - 3s 10ms/step - loss: 0.0785 - accuracy: 0.9668 - val_loss: 0.2241 - val_accuracy: 0.9359\n",
            "Epoch 15/65\n",
            "272/272 [==============================] - 3s 11ms/step - loss: 0.0615 - accuracy: 0.9769 - val_loss: 0.2307 - val_accuracy: 0.9365\n",
            "Epoch 16/65\n",
            "272/272 [==============================] - 3s 10ms/step - loss: 0.0598 - accuracy: 0.9793 - val_loss: 0.2112 - val_accuracy: 0.9436\n",
            "Epoch 17/65\n",
            "272/272 [==============================] - 3s 10ms/step - loss: 0.0770 - accuracy: 0.9730 - val_loss: 0.2292 - val_accuracy: 0.9397\n",
            "Epoch 18/65\n",
            "272/272 [==============================] - 3s 10ms/step - loss: 0.0757 - accuracy: 0.9771 - val_loss: 0.2264 - val_accuracy: 0.9391\n",
            "Epoch 19/65\n",
            "272/272 [==============================] - 3s 11ms/step - loss: 0.0493 - accuracy: 0.9818 - val_loss: 0.2258 - val_accuracy: 0.9442\n",
            "Epoch 20/65\n",
            "272/272 [==============================] - 3s 10ms/step - loss: 0.0485 - accuracy: 0.9848 - val_loss: 0.2353 - val_accuracy: 0.9353\n",
            "Epoch 21/65\n",
            "272/272 [==============================] - 3s 10ms/step - loss: 0.0331 - accuracy: 0.9897 - val_loss: 0.2513 - val_accuracy: 0.9327\n",
            "Epoch 22/65\n",
            "272/272 [==============================] - 3s 10ms/step - loss: 0.0266 - accuracy: 0.9911 - val_loss: 0.2585 - val_accuracy: 0.9359\n",
            "Epoch 23/65\n",
            "272/272 [==============================] - 3s 11ms/step - loss: 0.0230 - accuracy: 0.9921 - val_loss: 0.2396 - val_accuracy: 0.9462\n",
            "Epoch 24/65\n",
            "272/272 [==============================] - 3s 10ms/step - loss: 0.0239 - accuracy: 0.9916 - val_loss: 0.2552 - val_accuracy: 0.9397\n",
            "Epoch 25/65\n",
            "272/272 [==============================] - 3s 10ms/step - loss: 0.0288 - accuracy: 0.9892 - val_loss: 0.2489 - val_accuracy: 0.9404\n",
            "Epoch 26/65\n",
            "272/272 [==============================] - 3s 10ms/step - loss: 0.0218 - accuracy: 0.9904 - val_loss: 0.2514 - val_accuracy: 0.9442\n",
            "Epoch 27/65\n",
            "272/272 [==============================] - 3s 10ms/step - loss: 0.0303 - accuracy: 0.9919 - val_loss: 0.4154 - val_accuracy: 0.9282\n",
            "Epoch 28/65\n",
            "272/272 [==============================] - 3s 11ms/step - loss: 0.0456 - accuracy: 0.9884 - val_loss: 0.3285 - val_accuracy: 0.9301\n",
            "Epoch 29/65\n",
            "272/272 [==============================] - 3s 11ms/step - loss: 0.0176 - accuracy: 0.9966 - val_loss: 0.3285 - val_accuracy: 0.9288\n",
            "Epoch 30/65\n",
            "272/272 [==============================] - 3s 10ms/step - loss: 0.0158 - accuracy: 0.9943 - val_loss: 0.3003 - val_accuracy: 0.9378\n",
            "Epoch 31/65\n",
            "272/272 [==============================] - 3s 10ms/step - loss: 0.0373 - accuracy: 0.9919 - val_loss: 0.3416 - val_accuracy: 0.9423\n",
            "Epoch 32/65\n",
            "272/272 [==============================] - 3s 11ms/step - loss: 0.0120 - accuracy: 0.9970 - val_loss: 0.3442 - val_accuracy: 0.9340\n",
            "Epoch 33/65\n",
            "272/272 [==============================] - 3s 11ms/step - loss: 0.0121 - accuracy: 0.9968 - val_loss: 0.3677 - val_accuracy: 0.9256\n",
            "Epoch 34/65\n",
            "272/272 [==============================] - 3s 11ms/step - loss: 0.0106 - accuracy: 0.9958 - val_loss: 0.3152 - val_accuracy: 0.9417\n",
            "Epoch 35/65\n",
            "272/272 [==============================] - 3s 11ms/step - loss: 0.0079 - accuracy: 0.9980 - val_loss: 0.3613 - val_accuracy: 0.9321\n",
            "Epoch 36/65\n",
            "272/272 [==============================] - 3s 10ms/step - loss: 0.0079 - accuracy: 0.9978 - val_loss: 0.3417 - val_accuracy: 0.9449\n",
            "Epoch 37/65\n",
            "272/272 [==============================] - 3s 11ms/step - loss: 0.0077 - accuracy: 0.9975 - val_loss: 0.3851 - val_accuracy: 0.9333\n",
            "Epoch 38/65\n",
            "272/272 [==============================] - 3s 11ms/step - loss: 0.0078 - accuracy: 0.9983 - val_loss: 0.3757 - val_accuracy: 0.9391\n",
            "Epoch 39/65\n",
            "272/272 [==============================] - 3s 10ms/step - loss: 0.0055 - accuracy: 0.9988 - val_loss: 0.4093 - val_accuracy: 0.9340\n",
            "Epoch 40/65\n",
            "272/272 [==============================] - 3s 11ms/step - loss: 0.0073 - accuracy: 0.9983 - val_loss: 0.3143 - val_accuracy: 0.9423\n",
            "Epoch 41/65\n",
            "272/272 [==============================] - 3s 11ms/step - loss: 0.0068 - accuracy: 0.9975 - val_loss: 0.3530 - val_accuracy: 0.9385\n",
            "Epoch 42/65\n",
            "272/272 [==============================] - 3s 10ms/step - loss: 0.0318 - accuracy: 0.9939 - val_loss: 0.3868 - val_accuracy: 0.9423\n",
            "Epoch 43/65\n",
            "272/272 [==============================] - 3s 11ms/step - loss: 0.0047 - accuracy: 0.9990 - val_loss: 0.3784 - val_accuracy: 0.9429\n",
            "Epoch 44/65\n",
            "272/272 [==============================] - 3s 11ms/step - loss: 0.0112 - accuracy: 0.9973 - val_loss: 0.3768 - val_accuracy: 0.9442\n",
            "Epoch 45/65\n",
            "272/272 [==============================] - 3s 10ms/step - loss: 0.0025 - accuracy: 0.9998 - val_loss: 0.3622 - val_accuracy: 0.9468\n",
            "Epoch 46/65\n",
            "272/272 [==============================] - 3s 11ms/step - loss: 0.0062 - accuracy: 0.9983 - val_loss: 0.3774 - val_accuracy: 0.9417\n",
            "Epoch 47/65\n",
            "272/272 [==============================] - 3s 11ms/step - loss: 0.0037 - accuracy: 0.9988 - val_loss: 0.4039 - val_accuracy: 0.9391\n",
            "Epoch 48/65\n",
            "272/272 [==============================] - 3s 11ms/step - loss: 0.0117 - accuracy: 0.9975 - val_loss: 0.4726 - val_accuracy: 0.9353\n",
            "Epoch 49/65\n",
            "272/272 [==============================] - 3s 11ms/step - loss: 0.0522 - accuracy: 0.9916 - val_loss: 0.3521 - val_accuracy: 0.9372\n",
            "Epoch 50/65\n",
            "272/272 [==============================] - 3s 10ms/step - loss: 0.0514 - accuracy: 0.9936 - val_loss: 0.3077 - val_accuracy: 0.9410\n",
            "Epoch 51/65\n",
            "272/272 [==============================] - 3s 11ms/step - loss: 0.0137 - accuracy: 0.9975 - val_loss: 0.2892 - val_accuracy: 0.9474\n",
            "Epoch 52/65\n",
            "272/272 [==============================] - 3s 10ms/step - loss: 0.0026 - accuracy: 0.9998 - val_loss: 0.2885 - val_accuracy: 0.9455\n",
            "Epoch 53/65\n",
            "272/272 [==============================] - 3s 11ms/step - loss: 0.0030 - accuracy: 0.9993 - val_loss: 0.2990 - val_accuracy: 0.9462\n",
            "Epoch 54/65\n",
            "272/272 [==============================] - 3s 10ms/step - loss: 0.0013 - accuracy: 1.0000 - val_loss: 0.3193 - val_accuracy: 0.9410\n",
            "Epoch 55/65\n",
            "272/272 [==============================] - 3s 11ms/step - loss: 0.0020 - accuracy: 0.9995 - val_loss: 0.3202 - val_accuracy: 0.9404\n",
            "Epoch 56/65\n",
            "272/272 [==============================] - 3s 11ms/step - loss: 0.0027 - accuracy: 0.9990 - val_loss: 0.3091 - val_accuracy: 0.9436\n",
            "Epoch 57/65\n",
            "272/272 [==============================] - 3s 10ms/step - loss: 0.0015 - accuracy: 1.0000 - val_loss: 0.3164 - val_accuracy: 0.9436\n",
            "Epoch 58/65\n",
            "272/272 [==============================] - 3s 11ms/step - loss: 0.0026 - accuracy: 0.9985 - val_loss: 0.3137 - val_accuracy: 0.9417\n",
            "Epoch 59/65\n",
            "272/272 [==============================] - 3s 11ms/step - loss: 0.0014 - accuracy: 0.9995 - val_loss: 0.2685 - val_accuracy: 0.9494\n",
            "Epoch 60/65\n",
            "272/272 [==============================] - 3s 11ms/step - loss: 0.0031 - accuracy: 0.9985 - val_loss: 0.2860 - val_accuracy: 0.9449\n",
            "Epoch 61/65\n",
            "272/272 [==============================] - 3s 10ms/step - loss: 5.9657e-04 - accuracy: 1.0000 - val_loss: 0.2915 - val_accuracy: 0.9455\n",
            "Epoch 62/65\n",
            "272/272 [==============================] - 3s 10ms/step - loss: 4.6964e-04 - accuracy: 1.0000 - val_loss: 0.3141 - val_accuracy: 0.9481\n",
            "Epoch 63/65\n",
            "272/272 [==============================] - 3s 10ms/step - loss: 0.0017 - accuracy: 0.9995 - val_loss: 0.3297 - val_accuracy: 0.9423\n",
            "Epoch 64/65\n",
            "272/272 [==============================] - 3s 10ms/step - loss: 5.2213e-04 - accuracy: 1.0000 - val_loss: 0.3284 - val_accuracy: 0.9442\n",
            "Epoch 65/65\n",
            "272/272 [==============================] - 3s 11ms/step - loss: 5.0603e-04 - accuracy: 1.0000 - val_loss: 0.3330 - val_accuracy: 0.9442\n",
            "WAKTU TRAINING: 202.8048017024994 seconds\n"
          ]
        }
      ]
    },
    {
      "cell_type": "code",
      "metadata": {
        "id": "UIU2BYoV1G2X",
        "colab": {
          "base_uri": "https://localhost:8080/"
        },
        "outputId": "fd385cae-0c60-46c9-a1d6-1b01e923345a"
      },
      "source": [
        "_,acc_val = result.model.evaluate(X_test,Y_test,verbose=0)\n",
        "_,acc_train = result.model.evaluate(X_train,Y_train,verbose=0)\n",
        "print('Train_accuracy',acc_train,'test_accuracy',acc_val)"
      ],
      "execution_count": null,
      "outputs": [
        {
          "output_type": "stream",
          "name": "stdout",
          "text": [
            "Train_accuracy 1.0 test_accuracy 0.9442307949066162\n"
          ]
        }
      ]
    },
    {
      "cell_type": "code",
      "metadata": {
        "id": "AJpVxjaS1G46",
        "colab": {
          "base_uri": "https://localhost:8080/",
          "height": 544
        },
        "outputId": "b0a18437-386c-4ad4-8705-de4e4eef5b7e"
      },
      "source": [
        "accuracy = result.history['accuracy']\n",
        "val_accuracy = result.history['val_accuracy']\n",
        "loss = result.history['loss']\n",
        "val_loss = result.history['val_loss']\n",
        "\n",
        "epochs = range(len(accuracy))\n",
        "plt.plot(epochs, accuracy, 'bo', label='Training accuracy')\n",
        "plt.plot(epochs, val_accuracy, 'b', label='Validation accuracy',color='Red')\n",
        "plt.title('Accuracy')\n",
        "plt.legend()\n",
        "plt.figure()\n",
        "plt.plot(epochs, loss, 'bo', label='Training loss')\n",
        "plt.plot(epochs, val_loss, 'b', label='Validation loss',color='Red')\n",
        "plt.title('Loss')\n",
        "plt.legend()\n",
        "plt.show()"
      ],
      "execution_count": null,
      "outputs": [
        {
          "output_type": "display_data",
          "data": {
            "image/png": "[encoded data removed]",
            "text/plain": [
              "<Figure size 432x288 with 1 Axes>"
            ]
          },
          "metadata": {
            "needs_background": "light"
          }
        },
        {
          "output_type": "display_data",
          "data": {
            "image/png": "[encoded data removed]",
            "text/plain": [
              "<Figure size 432x288 with 1 Axes>"
            ]
          },
          "metadata": {
            "needs_background": "light"
          }
        }
      ]
    },
    {
      "cell_type": "code",
      "metadata": {
        "id": "-Dxer0VB3psU",
        "colab": {
          "base_uri": "https://localhost:8080/"
        },
        "outputId": "db6e2bf5-9f6d-4982-c6d6-6b4fbea65416"
      },
      "source": [
        "y_predict=result.model.predict(X_test)\n",
        "\n",
        "#setting agar bisa dibaca conf matrix\n",
        "rounded_predicts=np.argmax(y_predict, axis=1)\n",
        "rounded_labels=np.argmax(Y_test, axis=1)\n",
        "print(y_predict.shape,Y_test.shape,Y_train.shape)"
      ],
      "execution_count": null,
      "outputs": [
        {
          "output_type": "stream",
          "name": "stdout",
          "text": [
            "(1560, 3) (1560, 3) (4067, 3)\n"
          ]
        }
      ]
    },
    {
      "cell_type": "code",
      "metadata": {
        "id": "NM4VQaQB3p5T",
        "colab": {
          "base_uri": "https://localhost:8080/"
        },
        "outputId": "19514443-e3a9-43ce-cdf3-f3488eb79910"
      },
      "source": [
        "# Confusion Matrix\n",
        "print(confusion_matrix(rounded_labels, rounded_predicts))"
      ],
      "execution_count": null,
      "outputs": [
        {
          "output_type": "stream",
          "name": "stdout",
          "text": [
            "[[429  58   4]\n",
            " [ 25 507   0]\n",
            " [  0   0 537]]\n"
          ]
        }
      ]
    },
    {
      "cell_type": "code",
      "metadata": {
        "id": "lZk77ILO3u6-"
      },
      "source": [
        "import itertools\n",
        "import numpy as np\n",
        "import matplotlib.pyplot as plt\n",
        "from sklearn.metrics import confusion_matrix\n",
        "labels=['SITTING', 'STANDING', 'LAYING']\n",
        "def plot_confusion_matrix(cm, classes,\n",
        "                          normalize=False,\n",
        "                          title='Confusion matrix',\n",
        "                          cmap=plt.cm.Blues):\n",
        "    if normalize:\n",
        "        cm = cm.astype('float') / cm.sum(axis=1)[:, np.newaxis]\n",
        "    \n",
        "    plt.imshow(cm, interpolation='nearest', cmap=cmap)\n",
        "    plt.title(title)\n",
        "    plt.colorbar()\n",
        "    tick_marks = np.arange(len(classes))\n",
        "    plt.xticks(tick_marks, classes, rotation=45)\n",
        "    plt.yticks(tick_marks, classes)\n",
        "    fmt = '.2%' if normalize else 'd'\n",
        "    thresh = cm.max() / 2.\n",
        "    for i, j in itertools.product(range(cm.shape[0]), range(cm.shape[1])):\n",
        "        plt.text(j, i, format(cm[i, j], fmt),\n",
        "                 horizontalalignment=\"center\",\n",
        "                 color=\"white\" if cm[i, j] > thresh else \"black\")\n",
        "    plt.tight_layout()\n",
        "    plt.ylabel('True label')\n",
        "    plt.xlabel('Predicted label')"
      ],
      "execution_count": null,
      "outputs": []
    },
    {
      "cell_type": "code",
      "metadata": {
        "id": "Dk1Ggqq_3u8i",
        "colab": {
          "base_uri": "https://localhost:8080/",
          "height": 581
        },
        "outputId": "cb899a14-0a30-402b-94e8-bf28d76f057b"
      },
      "source": [
        "import matplotlib.pyplot as plt\n",
        "plt.figure(figsize=(9,8))\n",
        "cm = confusion_matrix(rounded_labels, rounded_predicts)\n",
        "plot_confusion_matrix(cm, classes=labels, normalize=True, title='Normalized Confussion Matrix \\n', cmap = plt.cm.Blues)\n",
        "plt.show()"
      ],
      "execution_count": null,
      "outputs": [
        {
          "output_type": "display_data",
          "data": {
            "image/png": "[encoded data removed]",
            "text/plain": [
              "<Figure size 648x576 with 2 Axes>"
            ]
          },
          "metadata": {
            "needs_background": "light"
          }
        }
      ]
    },
    {
      "cell_type": "code",
      "metadata": {
        "id": "9XJolmk_6Ekn",
        "colab": {
          "base_uri": "https://localhost:8080/"
        },
        "outputId": "2d3e60cb-4d50-4732-ba1e-92f81be88711"
      },
      "source": [
        "#CLASS. REPORT\n",
        "from sklearn.metrics import classification_report\n",
        "y_pred = result.model.predict(X_test)\n",
        "  \n",
        "import numpy as np  \n",
        "ytest  = np.array(Y_test)\n",
        "print('np.argmax(ytest, axis=1): {0}'.format(np.argmax(ytest, axis=1)))\n",
        "y_pred = np.argmax(y_pred,axis=1)"
      ],
      "execution_count": null,
      "outputs": [
        {
          "output_type": "stream",
          "name": "stdout",
          "text": [
            "np.argmax(ytest, axis=1): [1 1 1 ... 2 2 2]\n"
          ]
        }
      ]
    },
    {
      "cell_type": "code",
      "metadata": {
        "id": "2kAwdXbO6ExU",
        "colab": {
          "base_uri": "https://localhost:8080/"
        },
        "outputId": "03c34588-f4fb-4321-cc48-cf1bc1b1ce8d"
      },
      "source": [
        "print(classification_report(y_pred, np.argmax(ytest, axis = 1), target_names=labels))\n"
      ],
      "execution_count": null,
      "outputs": [
        {
          "output_type": "stream",
          "name": "stdout",
          "text": [
            "              precision    recall  f1-score   support\n",
            "\n",
            "     SITTING       0.87      0.94      0.91       454\n",
            "    STANDING       0.95      0.90      0.92       565\n",
            "      LAYING       1.00      0.99      1.00       541\n",
            "\n",
            "    accuracy                           0.94      1560\n",
            "   macro avg       0.94      0.94      0.94      1560\n",
            "weighted avg       0.95      0.94      0.94      1560\n",
            "\n"
          ]
        }
      ]
    },
    {
      "cell_type": "code",
      "metadata": {
        "id": "p8TD5xRB3vAI"
      },
      "source": [
        ""
      ],
      "execution_count": null,
      "outputs": []
    }
  ]
}